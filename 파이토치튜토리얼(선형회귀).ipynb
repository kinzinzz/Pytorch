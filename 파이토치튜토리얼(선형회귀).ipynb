{
  "nbformat": 4,
  "nbformat_minor": 0,
  "metadata": {
    "colab": {
      "provenance": [],
      "authorship_tag": "ABX9TyNc43XU7KwSr0sXVphRqgii",
      "include_colab_link": true
    },
    "kernelspec": {
      "name": "python3",
      "display_name": "Python 3"
    },
    "language_info": {
      "name": "python"
    }
  },
  "cells": [
    {
      "cell_type": "markdown",
      "metadata": {
        "id": "view-in-github",
        "colab_type": "text"
      },
      "source": [
        "<a href=\"https://colab.research.google.com/github/kinzinzz/Pytorch/blob/master/%ED%8C%8C%EC%9D%B4%ED%86%A0%EC%B9%98%ED%8A%9C%ED%86%A0%EB%A6%AC%EC%96%BC(%EC%84%A0%ED%98%95%ED%9A%8C%EA%B7%80).ipynb\" target=\"_parent\"><img src=\"https://colab.research.google.com/assets/colab-badge.svg\" alt=\"Open In Colab\"/></a>"
      ]
    },
    {
      "cell_type": "code",
      "execution_count": null,
      "metadata": {
        "id": "a-JP7I00_Wqt"
      },
      "outputs": [],
      "source": [
        "import torch"
      ]
    },
    {
      "cell_type": "code",
      "source": [
        "import torch.nn as nn\n",
        "import torch.nn.functional as F\n",
        "import torch.optim as optim"
      ],
      "metadata": {
        "id": "_ST6G8WyAB_W"
      },
      "execution_count": null,
      "outputs": []
    },
    {
      "cell_type": "code",
      "source": [
        "torch.manual_seed(1)"
      ],
      "metadata": {
        "colab": {
          "base_uri": "https://localhost:8080/"
        },
        "id": "c38laEGOACCF",
        "outputId": "f8b7ead9-28ce-449b-e7e6-a04dc5211356"
      },
      "execution_count": null,
      "outputs": [
        {
          "output_type": "execute_result",
          "data": {
            "text/plain": [
              "<torch._C.Generator at 0x7f8dc4775910>"
            ]
          },
          "metadata": {},
          "execution_count": 3
        }
      ]
    },
    {
      "cell_type": "code",
      "source": [
        "x_train = torch.FloatTensor([[1], [2], [3]])\n",
        "y_train = torch.FloatTensor([[2], [4], [6]])"
      ],
      "metadata": {
        "id": "FuK_vT6oACE-"
      },
      "execution_count": null,
      "outputs": []
    },
    {
      "cell_type": "code",
      "source": [
        "print(x_train)\n",
        "print(x_train.shape)"
      ],
      "metadata": {
        "colab": {
          "base_uri": "https://localhost:8080/"
        },
        "id": "F1bKelaGACHq",
        "outputId": "d2d87e0d-3dd9-4e23-c155-eb97272078b4"
      },
      "execution_count": null,
      "outputs": [
        {
          "output_type": "stream",
          "name": "stdout",
          "text": [
            "tensor([[1.],\n",
            "        [2.],\n",
            "        [3.]])\n",
            "torch.Size([3, 1])\n"
          ]
        }
      ]
    },
    {
      "cell_type": "code",
      "source": [
        "print(y_train)\n",
        "print(y_train.shape)"
      ],
      "metadata": {
        "colab": {
          "base_uri": "https://localhost:8080/"
        },
        "id": "yXSkaLUVACKk",
        "outputId": "544672d4-ed4b-4718-b3b2-795ff9b9a0c7"
      },
      "execution_count": null,
      "outputs": [
        {
          "output_type": "stream",
          "name": "stdout",
          "text": [
            "tensor([[2.],\n",
            "        [4.],\n",
            "        [6.]])\n",
            "torch.Size([3, 1])\n"
          ]
        }
      ]
    },
    {
      "cell_type": "code",
      "source": [
        "# 가중치 W를 0으로 초기화하고 학습을 통해 값이 변경되는 변수임을 명시함.\n",
        "W = torch.zeros(1, requires_grad=True) \n",
        "# 가중치 W를 출력\n",
        "print(W) "
      ],
      "metadata": {
        "colab": {
          "base_uri": "https://localhost:8080/"
        },
        "id": "u6LfksBWACNW",
        "outputId": "dc6234bd-b2a0-41c6-846b-095efe467b38"
      },
      "execution_count": null,
      "outputs": [
        {
          "output_type": "stream",
          "name": "stdout",
          "text": [
            "tensor([0.], requires_grad=True)\n"
          ]
        }
      ]
    },
    {
      "cell_type": "code",
      "source": [
        "b = torch.zeros(1, requires_grad=True)\n",
        "print(b)"
      ],
      "metadata": {
        "colab": {
          "base_uri": "https://localhost:8080/"
        },
        "id": "UMi4pdbIACQA",
        "outputId": "8b21f564-9ddd-4109-f705-d4ed860f1e6b"
      },
      "execution_count": null,
      "outputs": [
        {
          "output_type": "stream",
          "name": "stdout",
          "text": [
            "tensor([0.], requires_grad=True)\n"
          ]
        }
      ]
    },
    {
      "cell_type": "code",
      "source": [
        "# y = 0x + 0"
      ],
      "metadata": {
        "id": "jb9TqepbACS8"
      },
      "execution_count": null,
      "outputs": []
    },
    {
      "cell_type": "code",
      "source": [
        "hypothesis = x_train * W + b\n",
        "print(hypothesis)"
      ],
      "metadata": {
        "colab": {
          "base_uri": "https://localhost:8080/"
        },
        "id": "uPwi7EzUACWS",
        "outputId": "1cde79b0-dc19-4fa4-92a0-1d42964e5409"
      },
      "execution_count": null,
      "outputs": [
        {
          "output_type": "stream",
          "name": "stdout",
          "text": [
            "tensor([[0.],\n",
            "        [0.],\n",
            "        [0.]], grad_fn=<AddBackward0>)\n"
          ]
        }
      ]
    },
    {
      "cell_type": "code",
      "source": [
        "cost = torch.mean((hypothesis - y_train) ** 2) \n",
        "print(cost)"
      ],
      "metadata": {
        "colab": {
          "base_uri": "https://localhost:8080/"
        },
        "id": "_ge5VoliACZQ",
        "outputId": "d410ace6-17e1-4f3d-a9a8-a58a6879e042"
      },
      "execution_count": null,
      "outputs": [
        {
          "output_type": "stream",
          "name": "stdout",
          "text": [
            "tensor(18.6667, grad_fn=<MeanBackward0>)\n"
          ]
        }
      ]
    },
    {
      "cell_type": "code",
      "source": [
        "optimizer = optim.SGD([W, b], lr=0.01)"
      ],
      "metadata": {
        "id": "F98AfTPcACcK"
      },
      "execution_count": null,
      "outputs": []
    },
    {
      "cell_type": "code",
      "source": [
        "nb_epochs = 1999 # 원하는만큼 경사 하강법을 반복\n",
        "for epoch in range(nb_epochs + 1):\n",
        "\n",
        "    # H(x) 계산\n",
        "    hypothesis = x_train * W + b\n",
        "\n",
        "    # cost 계산\n",
        "    cost = torch.mean((hypothesis - y_train) ** 2)\n",
        "\n",
        "    # cost로 H(x) 개선\n",
        "    optimizer.zero_grad()\n",
        "    cost.backward()\n",
        "    optimizer.step()\n",
        "\n",
        "    # 100번마다 로그 출력\n",
        "    if epoch % 100 == 0:\n",
        "        print('Epoch {:4d}/{} W: {:.3f}, b: {:.3f} Cost: {:.6f}'.format(\n",
        "            epoch, nb_epochs, W.item(), b.item(), cost.item()\n",
        "        ))"
      ],
      "metadata": {
        "colab": {
          "base_uri": "https://localhost:8080/"
        },
        "id": "dwjDuc6RACji",
        "outputId": "e8f33458-871d-43bc-e4c5-09792d5501aa"
      },
      "execution_count": null,
      "outputs": [
        {
          "output_type": "stream",
          "name": "stdout",
          "text": [
            "Epoch    0/1999 W: 0.353, b: 0.151 Cost: 14.770963\n",
            "Epoch  100/1999 W: 1.746, b: 0.577 Cost: 0.047939\n",
            "Epoch  200/1999 W: 1.801, b: 0.453 Cost: 0.029624\n",
            "Epoch  300/1999 W: 1.843, b: 0.356 Cost: 0.018306\n",
            "Epoch  400/1999 W: 1.877, b: 0.280 Cost: 0.011312\n",
            "Epoch  500/1999 W: 1.903, b: 0.220 Cost: 0.006990\n",
            "Epoch  600/1999 W: 1.924, b: 0.173 Cost: 0.004319\n",
            "Epoch  700/1999 W: 1.940, b: 0.136 Cost: 0.002669\n",
            "Epoch  800/1999 W: 1.953, b: 0.107 Cost: 0.001649\n",
            "Epoch  900/1999 W: 1.963, b: 0.084 Cost: 0.001019\n",
            "Epoch 1000/1999 W: 1.971, b: 0.066 Cost: 0.000630\n",
            "Epoch 1100/1999 W: 1.977, b: 0.052 Cost: 0.000389\n",
            "Epoch 1200/1999 W: 1.982, b: 0.041 Cost: 0.000240\n",
            "Epoch 1300/1999 W: 1.986, b: 0.032 Cost: 0.000149\n",
            "Epoch 1400/1999 W: 1.989, b: 0.025 Cost: 0.000092\n",
            "Epoch 1500/1999 W: 1.991, b: 0.020 Cost: 0.000057\n",
            "Epoch 1600/1999 W: 1.993, b: 0.016 Cost: 0.000035\n",
            "Epoch 1700/1999 W: 1.995, b: 0.012 Cost: 0.000022\n",
            "Epoch 1800/1999 W: 1.996, b: 0.010 Cost: 0.000013\n",
            "Epoch 1900/1999 W: 1.997, b: 0.008 Cost: 0.000008\n"
          ]
        }
      ]
    },
    {
      "cell_type": "markdown",
      "source": [
        "자동 미분(Autograd)"
      ],
      "metadata": {
        "id": "8DQt1mwTEotn"
      }
    },
    {
      "cell_type": "code",
      "source": [
        "w = torch.tensor(2.0, requires_grad=True)"
      ],
      "metadata": {
        "id": "6IoB2xAaEnNF"
      },
      "execution_count": null,
      "outputs": []
    },
    {
      "cell_type": "code",
      "source": [
        "y = w**2\n",
        "z = 2*y + 5 "
      ],
      "metadata": {
        "id": "8mH67YKmEnQE"
      },
      "execution_count": null,
      "outputs": []
    },
    {
      "cell_type": "code",
      "source": [
        "z.backward()"
      ],
      "metadata": {
        "id": "WfKAOc25EnSo"
      },
      "execution_count": null,
      "outputs": []
    },
    {
      "cell_type": "code",
      "source": [
        "print('수식을 w로 미분한 값 : {}'.format(w.grad))"
      ],
      "metadata": {
        "colab": {
          "base_uri": "https://localhost:8080/"
        },
        "id": "1dWj_jptEnVW",
        "outputId": "cbfebece-4571-4550-dcb1-aaa7029a8062"
      },
      "execution_count": null,
      "outputs": [
        {
          "output_type": "stream",
          "name": "stdout",
          "text": [
            "수식을 w로 미분한 값 : 32.0\n"
          ]
        }
      ]
    },
    {
      "cell_type": "markdown",
      "source": [
        "다중 선형 회귀(Multivariable Linear regression)"
      ],
      "metadata": {
        "id": "8bVnkxX1GBbN"
      }
    },
    {
      "cell_type": "code",
      "source": [
        "torch.manual_seed(1)"
      ],
      "metadata": {
        "colab": {
          "base_uri": "https://localhost:8080/"
        },
        "id": "E43tgexkEnYL",
        "outputId": "3c2b576f-9a18-4979-bc4b-52bed63226ab"
      },
      "execution_count": null,
      "outputs": [
        {
          "output_type": "execute_result",
          "data": {
            "text/plain": [
              "<torch._C.Generator at 0x7f8dc4775910>"
            ]
          },
          "metadata": {},
          "execution_count": 24
        }
      ]
    },
    {
      "cell_type": "code",
      "source": [
        "# 훈련 데이터\n",
        "x1_train = torch.FloatTensor([[73], [93], [89], [96], [73]])\n",
        "x2_train = torch.FloatTensor([[80], [88], [91], [98], [66]])\n",
        "x3_train = torch.FloatTensor([[75], [93], [90], [100], [70]])\n",
        "y_train = torch.FloatTensor([[152], [185], [180], [196], [142]])"
      ],
      "metadata": {
        "id": "bSHUht7FEnbB"
      },
      "execution_count": null,
      "outputs": []
    },
    {
      "cell_type": "code",
      "source": [
        "# 가중치 w와 편향 b 초기화\n",
        "w1 = torch.zeros(1, requires_grad=True)\n",
        "w2 = torch.zeros(1, requires_grad=True)\n",
        "w3 = torch.zeros(1, requires_grad=True)\n",
        "b = torch.zeros(1, requires_grad=True)"
      ],
      "metadata": {
        "id": "5aDZm0JCEndw"
      },
      "execution_count": null,
      "outputs": []
    },
    {
      "cell_type": "code",
      "source": [
        "# optimizer 설정\n",
        "optimizer = optim.SGD([w1, w2, w3, b], lr=1e-5)\n",
        "\n",
        "nb_epochs = 1000\n",
        "for epoch in range(nb_epochs + 1):\n",
        "\n",
        "    # H(x) 계산\n",
        "    hypothesis = x1_train * w1 + x2_train * w2 + x3_train * w3 + b\n",
        "\n",
        "    # cost 계산\n",
        "    cost = torch.mean((hypothesis - y_train) ** 2)\n",
        "\n",
        "    # cost로 H(x) 개선\n",
        "    optimizer.zero_grad()\n",
        "    cost.backward()\n",
        "    optimizer.step()\n",
        "\n",
        "    # 100번마다 로그 출력\n",
        "    if epoch % 100 == 0:\n",
        "        print('Epoch {:4d}/{} w1: {:.3f} w2: {:.3f} w3: {:.3f} b: {:.3f} Cost: {:.6f}'.format(\n",
        "            epoch, nb_epochs, w1.item(), w2.item(), w3.item(), b.item(), cost.item()\n",
        "        ))"
      ],
      "metadata": {
        "colab": {
          "base_uri": "https://localhost:8080/"
        },
        "id": "gCbzyVcgEngo",
        "outputId": "6ecd2b18-0dfd-4877-a5da-b7230fbc5724"
      },
      "execution_count": null,
      "outputs": [
        {
          "output_type": "stream",
          "name": "stdout",
          "text": [
            "Epoch    0/1000 w1: 0.294 w2: 0.294 w3: 0.297 b: 0.003 Cost: 29661.800781\n",
            "Epoch  100/1000 w1: 0.674 w2: 0.661 w3: 0.676 b: 0.008 Cost: 1.563628\n",
            "Epoch  200/1000 w1: 0.679 w2: 0.655 w3: 0.677 b: 0.008 Cost: 1.497595\n",
            "Epoch  300/1000 w1: 0.684 w2: 0.649 w3: 0.677 b: 0.008 Cost: 1.435044\n",
            "Epoch  400/1000 w1: 0.689 w2: 0.643 w3: 0.678 b: 0.008 Cost: 1.375726\n",
            "Epoch  500/1000 w1: 0.694 w2: 0.638 w3: 0.678 b: 0.009 Cost: 1.319507\n",
            "Epoch  600/1000 w1: 0.699 w2: 0.633 w3: 0.679 b: 0.009 Cost: 1.266222\n",
            "Epoch  700/1000 w1: 0.704 w2: 0.627 w3: 0.679 b: 0.009 Cost: 1.215703\n",
            "Epoch  800/1000 w1: 0.709 w2: 0.622 w3: 0.679 b: 0.009 Cost: 1.167810\n",
            "Epoch  900/1000 w1: 0.713 w2: 0.617 w3: 0.680 b: 0.009 Cost: 1.122429\n",
            "Epoch 1000/1000 w1: 0.718 w2: 0.613 w3: 0.680 b: 0.009 Cost: 1.079390\n"
          ]
        }
      ]
    },
    {
      "cell_type": "code",
      "source": [
        "x_train  =  torch.FloatTensor([[73,  80,  75], \n",
        "                               [93,  88,  93], \n",
        "                               [89,  91,  80], \n",
        "                               [96,  98,  100],   \n",
        "                               [73,  66,  70]])  \n",
        "y_train  =  torch.FloatTensor([[152],  [185],  [180],  [196],  [142]])"
      ],
      "metadata": {
        "id": "lSqDY78LEnjf"
      },
      "execution_count": null,
      "outputs": []
    },
    {
      "cell_type": "code",
      "source": [
        "print(x_train.shape)\n",
        "print(y_train.shape)"
      ],
      "metadata": {
        "colab": {
          "base_uri": "https://localhost:8080/"
        },
        "id": "KCUUvhUWACmy",
        "outputId": "8bd9a874-a317-4814-8646-2ad1ad89d243"
      },
      "execution_count": null,
      "outputs": [
        {
          "output_type": "stream",
          "name": "stdout",
          "text": [
            "torch.Size([5, 3])\n",
            "torch.Size([5, 1])\n"
          ]
        }
      ]
    },
    {
      "cell_type": "code",
      "source": [
        "W = torch.zeros((3, 1), requires_grad=True)\n",
        "b = torch.zeros(1, requires_grad=True)"
      ],
      "metadata": {
        "id": "tRZo5AIXI-_3"
      },
      "execution_count": null,
      "outputs": []
    },
    {
      "cell_type": "code",
      "source": [
        "hypothesis = x_train.matmul(W) + b"
      ],
      "metadata": {
        "id": "qF4DhBeEJIzZ"
      },
      "execution_count": null,
      "outputs": []
    },
    {
      "cell_type": "code",
      "source": [
        "x_train  =  torch.FloatTensor([[73,  80,  75], \n",
        "                               [93,  88,  93], \n",
        "                               [89,  91,  80], \n",
        "                               [96,  98,  100],   \n",
        "                               [73,  66,  70]])  \n",
        "y_train  =  torch.FloatTensor([[152],  [185],  [180],  [196],  [142]])\n",
        "\n",
        "# 모델 초기화\n",
        "W = torch.zeros((3, 1), requires_grad=True)\n",
        "b = torch.zeros(1, requires_grad=True)\n",
        "# optimizer 설정\n",
        "optimizer = optim.SGD([W, b], lr=1e-5)\n",
        "\n",
        "nb_epochs = 20\n",
        "for epoch in range(nb_epochs + 1):\n",
        "\n",
        "    # H(x) 계산\n",
        "    # 편향 b는 브로드 캐스팅되어 각 샘플에 더해집니다.\n",
        "    hypothesis = x_train.matmul(W) + b\n",
        "\n",
        "    # cost 계산\n",
        "    cost = torch.mean((hypothesis - y_train) ** 2)\n",
        "\n",
        "    # cost로 H(x) 개선\n",
        "    optimizer.zero_grad()\n",
        "    cost.backward()\n",
        "    optimizer.step()\n",
        "\n",
        "    print('Epoch {:4d}/{} hypothesis: {} Cost: {:.6f}'.format(\n",
        "        epoch, nb_epochs, hypothesis.squeeze().detach(), cost.item()\n",
        "    ))"
      ],
      "metadata": {
        "colab": {
          "base_uri": "https://localhost:8080/"
        },
        "id": "ROEQhA9LJOqU",
        "outputId": "49a8ab66-6e66-49c4-9312-48b6ee5df04d"
      },
      "execution_count": null,
      "outputs": [
        {
          "output_type": "stream",
          "name": "stdout",
          "text": [
            "Epoch    0/20 hypothesis: tensor([0., 0., 0., 0., 0.]) Cost: 29661.800781\n",
            "Epoch    1/20 hypothesis: tensor([66.7178, 80.1701, 76.1025, 86.0194, 61.1565]) Cost: 9537.694336\n",
            "Epoch    2/20 hypothesis: tensor([104.5421, 125.6208, 119.2478, 134.7862,  95.8280]) Cost: 3069.590088\n",
            "Epoch    3/20 hypothesis: tensor([125.9858, 151.3882, 143.7087, 162.4333, 115.4844]) Cost: 990.670288\n",
            "Epoch    4/20 hypothesis: tensor([138.1429, 165.9963, 157.5768, 178.1071, 126.6283]) Cost: 322.481873\n",
            "Epoch    5/20 hypothesis: tensor([145.0350, 174.2780, 165.4395, 186.9928, 132.9461]) Cost: 107.717064\n",
            "Epoch    6/20 hypothesis: tensor([148.9423, 178.9730, 169.8976, 192.0301, 136.5279]) Cost: 38.687496\n",
            "Epoch    7/20 hypothesis: tensor([151.1574, 181.6346, 172.4254, 194.8856, 138.5585]) Cost: 16.499043\n",
            "Epoch    8/20 hypothesis: tensor([152.4131, 183.1435, 173.8590, 196.5043, 139.7097]) Cost: 9.365656\n",
            "Epoch    9/20 hypothesis: tensor([153.1250, 183.9988, 174.6723, 197.4217, 140.3625]) Cost: 7.071114\n",
            "Epoch   10/20 hypothesis: tensor([153.5285, 184.4835, 175.1338, 197.9415, 140.7325]) Cost: 6.331847\n",
            "Epoch   11/20 hypothesis: tensor([153.7572, 184.7582, 175.3958, 198.2360, 140.9424]) Cost: 6.092532\n",
            "Epoch   12/20 hypothesis: tensor([153.8868, 184.9138, 175.5449, 198.4026, 141.0613]) Cost: 6.013817\n",
            "Epoch   13/20 hypothesis: tensor([153.9602, 185.0019, 175.6299, 198.4969, 141.1288]) Cost: 5.986785\n",
            "Epoch   14/20 hypothesis: tensor([154.0017, 185.0517, 175.6785, 198.5500, 141.1671]) Cost: 5.976325\n",
            "Epoch   15/20 hypothesis: tensor([154.0252, 185.0798, 175.7065, 198.5800, 141.1888]) Cost: 5.971208\n",
            "Epoch   16/20 hypothesis: tensor([154.0385, 185.0956, 175.7229, 198.5966, 141.2012]) Cost: 5.967835\n",
            "Epoch   17/20 hypothesis: tensor([154.0459, 185.1045, 175.7326, 198.6059, 141.2082]) Cost: 5.964969\n",
            "Epoch   18/20 hypothesis: tensor([154.0501, 185.1094, 175.7386, 198.6108, 141.2122]) Cost: 5.962291\n",
            "Epoch   19/20 hypothesis: tensor([154.0524, 185.1120, 175.7424, 198.6134, 141.2145]) Cost: 5.959664\n",
            "Epoch   20/20 hypothesis: tensor([154.0536, 185.1134, 175.7451, 198.6145, 141.2158]) Cost: 5.957089\n"
          ]
        }
      ]
    },
    {
      "cell_type": "markdown",
      "source": [
        "nn.Module로 구현하는 선형 회귀"
      ],
      "metadata": {
        "id": "oJLqfyN2JpCH"
      }
    },
    {
      "cell_type": "code",
      "source": [
        "# 데이터\n",
        "x_train = torch.FloatTensor([[1], [2], [3]])\n",
        "y_train = torch.FloatTensor([[2], [4], [6]])"
      ],
      "metadata": {
        "id": "w953Kdb3JodK"
      },
      "execution_count": null,
      "outputs": []
    },
    {
      "cell_type": "code",
      "source": [
        "# 모델을 선언 및 초기화. 단순 선형 회귀이므로 input_dim=1, output_dim=1.\n",
        "model = nn.Linear(1,1)"
      ],
      "metadata": {
        "id": "mggP9ru5JogJ"
      },
      "execution_count": null,
      "outputs": []
    },
    {
      "cell_type": "code",
      "source": [
        "print(list(model.parameters()))"
      ],
      "metadata": {
        "colab": {
          "base_uri": "https://localhost:8080/"
        },
        "id": "itYOIXAmJooM",
        "outputId": "4a7e31f5-64de-4f7f-9ec3-ed87d4af4a80"
      },
      "execution_count": null,
      "outputs": [
        {
          "output_type": "stream",
          "name": "stdout",
          "text": [
            "[Parameter containing:\n",
            "tensor([[0.5153]], requires_grad=True), Parameter containing:\n",
            "tensor([-0.4414], requires_grad=True)]\n"
          ]
        }
      ]
    },
    {
      "cell_type": "code",
      "source": [
        "optimizer = torch.optim.SGD(model.parameters(), lr=0.01) "
      ],
      "metadata": {
        "id": "CmTmEyMSJOsz"
      },
      "execution_count": null,
      "outputs": []
    },
    {
      "cell_type": "code",
      "source": [
        "nb_epochs = 2000\n",
        "for epoch in range(nb_epochs+1):\n",
        "\n",
        "    # H(x) 계산\n",
        "    prediction = model(x_train)\n",
        "\n",
        "    # cost 계산\n",
        "    cost = F.mse_loss(prediction, y_train) # <== 파이토치에서 제공하는 평균 제곱 오차 함수\n",
        "\n",
        "    # cost로 H(x) 개선하는 부분\n",
        "    # gradient를 0으로 초기화\n",
        "    optimizer.zero_grad()\n",
        "    # 비용 함수를 미분하여 gradient 계산\n",
        "    cost.backward() # backward 연산\n",
        "    # W와 b를 업데이트\n",
        "    optimizer.step()\n",
        "\n",
        "    if epoch % 100 == 0:\n",
        "    # 100번마다 로그 출력\n",
        "      print('Epoch {:4d}/{} Cost: {:.6f}'.format(\n",
        "          epoch, nb_epochs, cost.item()\n",
        "      ))"
      ],
      "metadata": {
        "colab": {
          "base_uri": "https://localhost:8080/"
        },
        "id": "4SSl8WbqJOvq",
        "outputId": "f6a6c2a2-1756-474f-f0ef-f39003ae5dac"
      },
      "execution_count": null,
      "outputs": [
        {
          "output_type": "stream",
          "name": "stdout",
          "text": [
            "Epoch    0/2000 Cost: 13.103541\n",
            "Epoch  100/2000 Cost: 0.002791\n",
            "Epoch  200/2000 Cost: 0.001724\n",
            "Epoch  300/2000 Cost: 0.001066\n",
            "Epoch  400/2000 Cost: 0.000658\n",
            "Epoch  500/2000 Cost: 0.000407\n",
            "Epoch  600/2000 Cost: 0.000251\n",
            "Epoch  700/2000 Cost: 0.000155\n",
            "Epoch  800/2000 Cost: 0.000096\n",
            "Epoch  900/2000 Cost: 0.000059\n",
            "Epoch 1000/2000 Cost: 0.000037\n",
            "Epoch 1100/2000 Cost: 0.000023\n",
            "Epoch 1200/2000 Cost: 0.000014\n",
            "Epoch 1300/2000 Cost: 0.000009\n",
            "Epoch 1400/2000 Cost: 0.000005\n",
            "Epoch 1500/2000 Cost: 0.000003\n",
            "Epoch 1600/2000 Cost: 0.000002\n",
            "Epoch 1700/2000 Cost: 0.000001\n",
            "Epoch 1800/2000 Cost: 0.000001\n",
            "Epoch 1900/2000 Cost: 0.000000\n",
            "Epoch 2000/2000 Cost: 0.000000\n"
          ]
        }
      ]
    },
    {
      "cell_type": "code",
      "source": [
        "# 임의의 입력 4를 선언\n",
        "new_var =  torch.FloatTensor([[4.0]]) \n",
        "# 입력한 값 4에 대해서 예측값 y를 리턴받아서 pred_y에 저장\n",
        "pred_y = model(new_var) # forward 연산\n",
        "# y = 2x 이므로 입력이 4라면 y가 8에 가까운 값이 나와야 제대로 학습이 된 것\n",
        "print(\"훈련 후 입력이 4일 때의 예측값 :\", pred_y) "
      ],
      "metadata": {
        "colab": {
          "base_uri": "https://localhost:8080/"
        },
        "id": "w5pcG_KRJOyC",
        "outputId": "692f6fc8-ab80-444e-b6f9-3682a3a21c8f"
      },
      "execution_count": null,
      "outputs": [
        {
          "output_type": "stream",
          "name": "stdout",
          "text": [
            "훈련 후 입력이 4일 때의 예측값 : tensor([[7.9989]], grad_fn=<AddmmBackward0>)\n"
          ]
        }
      ]
    },
    {
      "cell_type": "code",
      "source": [
        "print(list(model.parameters()))"
      ],
      "metadata": {
        "colab": {
          "base_uri": "https://localhost:8080/"
        },
        "id": "PhbKlUsUKQRs",
        "outputId": "4b2f39ef-250b-4b98-a1cd-de953ef6dfb5"
      },
      "execution_count": null,
      "outputs": [
        {
          "output_type": "stream",
          "name": "stdout",
          "text": [
            "[Parameter containing:\n",
            "tensor([[1.9994]], requires_grad=True), Parameter containing:\n",
            "tensor([0.0014], requires_grad=True)]\n"
          ]
        }
      ]
    },
    {
      "cell_type": "code",
      "source": [
        "torch.manual_seed(1)"
      ],
      "metadata": {
        "colab": {
          "base_uri": "https://localhost:8080/"
        },
        "id": "TNg5ofi-K9SW",
        "outputId": "3483f890-b88e-4e70-a125-87476128844a"
      },
      "execution_count": null,
      "outputs": [
        {
          "output_type": "execute_result",
          "data": {
            "text/plain": [
              "<torch._C.Generator at 0x7f8dc4775910>"
            ]
          },
          "metadata": {},
          "execution_count": 50
        }
      ]
    },
    {
      "cell_type": "code",
      "source": [
        "# 데이터\n",
        "x_train = torch.FloatTensor([[73, 80, 75],\n",
        "                             [93, 88, 93],\n",
        "                             [89, 91, 90],\n",
        "                             [96, 98, 100],\n",
        "                             [73, 66, 70]])\n",
        "y_train = torch.FloatTensor([[152], [185], [180], [196], [142]])"
      ],
      "metadata": {
        "id": "ByFOjPL3KQUW"
      },
      "execution_count": null,
      "outputs": []
    },
    {
      "cell_type": "code",
      "source": [
        "# 모델을 선언 및 초기화. 다중 선형 회귀이므로 input_dim=3, output_dim=1.\n",
        "model = nn.Linear(3,1)"
      ],
      "metadata": {
        "id": "CTQ2R0LDKQW8"
      },
      "execution_count": null,
      "outputs": []
    },
    {
      "cell_type": "code",
      "source": [
        "print(list(model.parameters()))"
      ],
      "metadata": {
        "colab": {
          "base_uri": "https://localhost:8080/"
        },
        "id": "TOj0WyZ7KrAR",
        "outputId": "9c2521d0-6284-44e7-9c1f-0f24ed1f2334"
      },
      "execution_count": null,
      "outputs": [
        {
          "output_type": "stream",
          "name": "stdout",
          "text": [
            "[Parameter containing:\n",
            "tensor([[ 0.2975, -0.2548, -0.1119]], requires_grad=True), Parameter containing:\n",
            "tensor([0.2710], requires_grad=True)]\n"
          ]
        }
      ]
    },
    {
      "cell_type": "code",
      "source": [
        "optimizer = torch.optim.SGD(model.parameters(), lr=1e-5) "
      ],
      "metadata": {
        "id": "8lo1qToDKrDC"
      },
      "execution_count": null,
      "outputs": []
    },
    {
      "cell_type": "code",
      "source": [
        "nb_epochs = 2000\n",
        "for epoch in range(nb_epochs+1):\n",
        "\n",
        "    # H(x) 계산\n",
        "    prediction = model(x_train)\n",
        "    # model(x_train)은 model.forward(x_train)와 동일함.\n",
        "\n",
        "    # cost 계산\n",
        "    cost = F.mse_loss(prediction, y_train) # <== 파이토치에서 제공하는 평균 제곱 오차 함수\n",
        "\n",
        "    # cost로 H(x) 개선하는 부분\n",
        "    # gradient를 0으로 초기화\n",
        "    optimizer.zero_grad()\n",
        "    # 비용 함수를 미분하여 gradient 계산\n",
        "    cost.backward()\n",
        "    # W와 b를 업데이트\n",
        "    optimizer.step()\n",
        "\n",
        "    if epoch % 100 == 0:\n",
        "    # 100번마다 로그 출력\n",
        "      print('Epoch {:4d}/{} Cost: {:.6f}'.format(\n",
        "          epoch, nb_epochs, cost.item()\n",
        "      ))"
      ],
      "metadata": {
        "colab": {
          "base_uri": "https://localhost:8080/"
        },
        "id": "4Je0YH2KKrFq",
        "outputId": "3eb5c226-e7b2-4471-a2e6-450cf0924436"
      },
      "execution_count": null,
      "outputs": [
        {
          "output_type": "stream",
          "name": "stdout",
          "text": [
            "Epoch    0/2000 Cost: 31667.597656\n",
            "Epoch  100/2000 Cost: 0.225993\n",
            "Epoch  200/2000 Cost: 0.223911\n",
            "Epoch  300/2000 Cost: 0.221941\n",
            "Epoch  400/2000 Cost: 0.220059\n",
            "Epoch  500/2000 Cost: 0.218271\n",
            "Epoch  600/2000 Cost: 0.216575\n",
            "Epoch  700/2000 Cost: 0.214950\n",
            "Epoch  800/2000 Cost: 0.213413\n",
            "Epoch  900/2000 Cost: 0.211952\n",
            "Epoch 1000/2000 Cost: 0.210560\n",
            "Epoch 1100/2000 Cost: 0.209232\n",
            "Epoch 1200/2000 Cost: 0.207967\n",
            "Epoch 1300/2000 Cost: 0.206761\n",
            "Epoch 1400/2000 Cost: 0.205619\n",
            "Epoch 1500/2000 Cost: 0.204522\n",
            "Epoch 1600/2000 Cost: 0.203484\n",
            "Epoch 1700/2000 Cost: 0.202485\n",
            "Epoch 1800/2000 Cost: 0.201542\n",
            "Epoch 1900/2000 Cost: 0.200635\n",
            "Epoch 2000/2000 Cost: 0.199769\n"
          ]
        }
      ]
    },
    {
      "cell_type": "code",
      "source": [
        "# 임의의 입력 [73, 80, 75]를 선언\n",
        "new_var =  torch.FloatTensor([[73, 80, 75]]) \n",
        "# 입력한 값 [73, 80, 75]에 대해서 예측값 y를 리턴받아서 pred_y에 저장\n",
        "pred_y = model(new_var) \n",
        "print(\"훈련 후 입력이 73, 80, 75일 때의 예측값 :\", pred_y) "
      ],
      "metadata": {
        "colab": {
          "base_uri": "https://localhost:8080/"
        },
        "id": "OaMVhQwSKrLS",
        "outputId": "a16afe02-1233-4edd-f18b-56579e7fdf22"
      },
      "execution_count": null,
      "outputs": [
        {
          "output_type": "stream",
          "name": "stdout",
          "text": [
            "훈련 후 입력이 73, 80, 75일 때의 예측값 : tensor([[151.2305]], grad_fn=<AddmmBackward0>)\n"
          ]
        }
      ]
    },
    {
      "cell_type": "code",
      "source": [
        "print(list(model.parameters()))"
      ],
      "metadata": {
        "colab": {
          "base_uri": "https://localhost:8080/"
        },
        "id": "pULCeIm4LVzk",
        "outputId": "0fd28342-0787-4597-ca11-866f3bb88ddc"
      },
      "execution_count": null,
      "outputs": [
        {
          "output_type": "stream",
          "name": "stdout",
          "text": [
            "[Parameter containing:\n",
            "tensor([[0.9778, 0.4539, 0.5768]], requires_grad=True), Parameter containing:\n",
            "tensor([0.2802], requires_grad=True)]\n"
          ]
        }
      ]
    },
    {
      "cell_type": "markdown",
      "source": [
        "클래스로 파이토치 모델 구현하기"
      ],
      "metadata": {
        "id": "K8fppEH6Lmuh"
      }
    },
    {
      "cell_type": "code",
      "source": [
        "# 모델을 선언 및 초기화. 단순 선형 회귀이므로 input_dim=1, output_dim=1.\n",
        "model = nn.Linear(1,1)"
      ],
      "metadata": {
        "id": "QeyEoNOcLn2o"
      },
      "execution_count": null,
      "outputs": []
    },
    {
      "cell_type": "code",
      "source": [
        "class LinearRegressionModel(nn.Module): # torch.nn.Module을 상속받는 파이썬 클래스\n",
        "    def __init__(self): #\n",
        "        super().__init__()\n",
        "        self.linear = nn.Linear(1, 1) # 단순 선형 회귀이므로 input_dim=1, output_dim=1.\n",
        "\n",
        "        def forward(self, x):\n",
        "            return self.linear(x)"
      ],
      "metadata": {
        "id": "A2ObxkRpLn5J"
      },
      "execution_count": null,
      "outputs": []
    },
    {
      "cell_type": "code",
      "source": [
        "model = LinearRegressionModel()"
      ],
      "metadata": {
        "id": "XOrZnj7kLn7u"
      },
      "execution_count": null,
      "outputs": []
    },
    {
      "cell_type": "code",
      "source": [
        "# 모델을 선언 및 초기화. 다중 선형 회귀이므로 input_dim=3, output_dim=1.\n",
        "model = nn.Linear(3,1)"
      ],
      "metadata": {
        "id": "X2Jn39QZLn-M"
      },
      "execution_count": null,
      "outputs": []
    },
    {
      "cell_type": "code",
      "source": [
        "class MultivariateLinearRegressionModel(nn.Module):\n",
        "    def __init__(self):\n",
        "        super().__init__()\n",
        "        self.linear = nn.Linear(3, 1) # 다중 선형 회귀이므로 input_dim=3, output_dim=1.\n",
        "\n",
        "    def forward(self, x):\n",
        "        return self.linear(x)"
      ],
      "metadata": {
        "id": "I8Lj3_rpLoA4"
      },
      "execution_count": null,
      "outputs": []
    },
    {
      "cell_type": "code",
      "source": [
        "model = MultivariateLinearRegressionModel()"
      ],
      "metadata": {
        "id": "Rz0Ive3tLoDl"
      },
      "execution_count": null,
      "outputs": []
    },
    {
      "cell_type": "markdown",
      "source": [
        "단순 선형 회귀 클래스로 구현하기"
      ],
      "metadata": {
        "id": "0rL0JYwkMUg-"
      }
    },
    {
      "cell_type": "code",
      "source": [
        "import torch\n",
        "import torch.nn as nn\n",
        "import torch.nn.functional as F"
      ],
      "metadata": {
        "id": "0nhmW5c7LoGR"
      },
      "execution_count": null,
      "outputs": []
    },
    {
      "cell_type": "code",
      "source": [
        "torch.manual_seed(1)"
      ],
      "metadata": {
        "colab": {
          "base_uri": "https://localhost:8080/"
        },
        "id": "H-JjyxnCLoI9",
        "outputId": "7a7f5913-1148-4eb5-be28-53b03e2e41b5"
      },
      "execution_count": null,
      "outputs": [
        {
          "output_type": "execute_result",
          "data": {
            "text/plain": [
              "<torch._C.Generator at 0x7f8dc4775910>"
            ]
          },
          "metadata": {},
          "execution_count": 68
        }
      ]
    },
    {
      "cell_type": "code",
      "source": [
        "# 데이터\n",
        "x_train = torch.FloatTensor([[1], [2], [3]])\n",
        "y_train = torch.FloatTensor([[2], [4], [6]])"
      ],
      "metadata": {
        "id": "FZRC9sU-LoLw"
      },
      "execution_count": null,
      "outputs": []
    },
    {
      "cell_type": "code",
      "source": [
        "class LinearRegressionModel(nn.Module):\n",
        "    def __init__(self):\n",
        "        super().__init__()\n",
        "        self.linear = nn.Linear(1, 1)\n",
        "\n",
        "    def forward(self, x):\n",
        "        return self.linear(x)"
      ],
      "metadata": {
        "id": "2jbVYGuILoOe"
      },
      "execution_count": null,
      "outputs": []
    },
    {
      "cell_type": "code",
      "source": [
        "model = LinearRegressionModel()"
      ],
      "metadata": {
        "id": "XfsGnXrfLoRV"
      },
      "execution_count": null,
      "outputs": []
    },
    {
      "cell_type": "code",
      "source": [
        "# optimizer 설정. 경사 하강법 SGD를 사용하고 learning rate를 의미하는 lr은 0.01\n",
        "optimizer = torch.optim.SGD(model.parameters(), lr=0.01) "
      ],
      "metadata": {
        "id": "NgpHKuCWLoUN"
      },
      "execution_count": null,
      "outputs": []
    },
    {
      "cell_type": "code",
      "source": [
        "# 전체 훈련 데이터에 대해 경사 하강법을 2,000회 반복\n",
        "nb_epochs = 2000\n",
        "for epoch in range(nb_epochs+1):\n",
        "\n",
        "    # H(x) 계산\n",
        "    prediction = model(x_train)\n",
        "\n",
        "    # cost 계산\n",
        "    cost = F.mse_loss(prediction, y_train) # <== 파이토치에서 제공하는 평균 제곱 오차 함수\n",
        "\n",
        "    # cost로 H(x) 개선하는 부분\n",
        "    # gradient를 0으로 초기화\n",
        "    optimizer.zero_grad()\n",
        "    # 비용 함수를 미분하여 gradient 계산\n",
        "    cost.backward() # backward 연산\n",
        "    # W와 b를 업데이트\n",
        "    optimizer.step()\n",
        "\n",
        "    if epoch % 100 == 0:\n",
        "    # 100번마다 로그 출력\n",
        "      print('Epoch {:4d}/{} Cost: {:.6f}'.format(\n",
        "          epoch, nb_epochs, cost.item()\n",
        "      ))"
      ],
      "metadata": {
        "colab": {
          "base_uri": "https://localhost:8080/"
        },
        "id": "Ds5AqCsTLoXH",
        "outputId": "f77b369e-2ad3-4f69-b20f-358fb2ff70ce"
      },
      "execution_count": null,
      "outputs": [
        {
          "output_type": "stream",
          "name": "stdout",
          "text": [
            "Epoch    0/2000 Cost: 13.103541\n",
            "Epoch  100/2000 Cost: 0.002791\n",
            "Epoch  200/2000 Cost: 0.001724\n",
            "Epoch  300/2000 Cost: 0.001066\n",
            "Epoch  400/2000 Cost: 0.000658\n",
            "Epoch  500/2000 Cost: 0.000407\n",
            "Epoch  600/2000 Cost: 0.000251\n",
            "Epoch  700/2000 Cost: 0.000155\n",
            "Epoch  800/2000 Cost: 0.000096\n",
            "Epoch  900/2000 Cost: 0.000059\n",
            "Epoch 1000/2000 Cost: 0.000037\n",
            "Epoch 1100/2000 Cost: 0.000023\n",
            "Epoch 1200/2000 Cost: 0.000014\n",
            "Epoch 1300/2000 Cost: 0.000009\n",
            "Epoch 1400/2000 Cost: 0.000005\n",
            "Epoch 1500/2000 Cost: 0.000003\n",
            "Epoch 1600/2000 Cost: 0.000002\n",
            "Epoch 1700/2000 Cost: 0.000001\n",
            "Epoch 1800/2000 Cost: 0.000001\n",
            "Epoch 1900/2000 Cost: 0.000000\n",
            "Epoch 2000/2000 Cost: 0.000000\n"
          ]
        }
      ]
    },
    {
      "cell_type": "code",
      "source": [
        "from torch.utils.data import TensorDataset # 텐서 데이터셋\n",
        "from torch.utils.data import DataLoader # 데이터로더"
      ],
      "metadata": {
        "id": "t7lPjva7LoZ9"
      },
      "execution_count": null,
      "outputs": []
    },
    {
      "cell_type": "code",
      "source": [
        "x_train  =  torch.FloatTensor([[73,  80,  75], \n",
        "                               [93,  88,  93], \n",
        "                               [89,  91,  90], \n",
        "                               [96,  98,  100],   \n",
        "                               [73,  66,  70]])  \n",
        "y_train  =  torch.FloatTensor([[152],  [185],  [180],  [196],  [142]])"
      ],
      "metadata": {
        "id": "MplmAcGmLocv"
      },
      "execution_count": null,
      "outputs": []
    },
    {
      "cell_type": "code",
      "source": [
        "dataset = TensorDataset(x_train, y_train)"
      ],
      "metadata": {
        "id": "aUzY7_rJLofj"
      },
      "execution_count": null,
      "outputs": []
    },
    {
      "cell_type": "code",
      "source": [
        "dataloader = DataLoader(dataset, batch_size=2, shuffle=True)"
      ],
      "metadata": {
        "id": "xxyvgYDsLoiV"
      },
      "execution_count": null,
      "outputs": []
    },
    {
      "cell_type": "code",
      "source": [
        "model = nn.Linear(3,1)\n",
        "optimizer = torch.optim.SGD(model.parameters(), lr=1e-5) "
      ],
      "metadata": {
        "id": "VSMymMllO1lc"
      },
      "execution_count": null,
      "outputs": []
    },
    {
      "cell_type": "code",
      "source": [
        "nb_epochs = 100\n",
        "for epoch in range(nb_epochs + 1):\n",
        "  for batch_idx, samples in enumerate(dataloader):\n",
        "    # print(batch_idx)\n",
        "    # print(samples)\n",
        "    x_train, y_train = samples\n",
        "    # H(x) 계산\n",
        "    prediction = model(x_train)\n",
        "\n",
        "    # cost 계산\n",
        "    cost = F.mse_loss(prediction, y_train)\n",
        "\n",
        "    # cost로 H(x) 계산\n",
        "    optimizer.zero_grad()\n",
        "    cost.backward()\n",
        "    optimizer.step()\n",
        "\n",
        "    print('Epoch {:4d}/{} Batch {}/{} Cost: {:.6f}'.format(\n",
        "        epoch, nb_epochs, batch_idx+1, len(dataloader),\n",
        "        cost.item()\n",
        "        ))"
      ],
      "metadata": {
        "colab": {
          "base_uri": "https://localhost:8080/"
        },
        "id": "FfROeKP9O1oG",
        "outputId": "89c5063d-75c9-44a0-99e2-4db8c3be48f3"
      },
      "execution_count": null,
      "outputs": [
        {
          "output_type": "stream",
          "name": "stdout",
          "text": [
            "Epoch    0/100 Batch 1/3 Cost: 1.372933\n",
            "Epoch    0/100 Batch 2/3 Cost: 15.839283\n",
            "Epoch    0/100 Batch 3/3 Cost: 3.271894\n",
            "Epoch    1/100 Batch 1/3 Cost: 4.369859\n",
            "Epoch    1/100 Batch 2/3 Cost: 3.318158\n",
            "Epoch    1/100 Batch 3/3 Cost: 15.500782\n",
            "Epoch    2/100 Batch 1/3 Cost: 6.320694\n",
            "Epoch    2/100 Batch 2/3 Cost: 4.360378\n",
            "Epoch    2/100 Batch 3/3 Cost: 10.989343\n",
            "Epoch    3/100 Batch 1/3 Cost: 9.303133\n",
            "Epoch    3/100 Batch 2/3 Cost: 6.654787\n",
            "Epoch    3/100 Batch 3/3 Cost: 4.576920\n",
            "Epoch    4/100 Batch 1/3 Cost: 7.399328\n",
            "Epoch    4/100 Batch 2/3 Cost: 8.010064\n",
            "Epoch    4/100 Batch 3/3 Cost: 5.060166\n",
            "Epoch    5/100 Batch 1/3 Cost: 8.921635\n",
            "Epoch    5/100 Batch 2/3 Cost: 9.196697\n",
            "Epoch    5/100 Batch 3/3 Cost: 5.979702\n",
            "Epoch    6/100 Batch 1/3 Cost: 5.175063\n",
            "Epoch    6/100 Batch 2/3 Cost: 2.191794\n",
            "Epoch    6/100 Batch 3/3 Cost: 14.769370\n",
            "Epoch    7/100 Batch 1/3 Cost: 7.692922\n",
            "Epoch    7/100 Batch 2/3 Cost: 3.770699\n",
            "Epoch    7/100 Batch 3/3 Cost: 3.492603\n",
            "Epoch    8/100 Batch 1/3 Cost: 4.202168\n",
            "Epoch    8/100 Batch 2/3 Cost: 6.494361\n",
            "Epoch    8/100 Batch 3/3 Cost: 5.751917\n",
            "Epoch    9/100 Batch 1/3 Cost: 1.427640\n",
            "Epoch    9/100 Batch 2/3 Cost: 8.975370\n",
            "Epoch    9/100 Batch 3/3 Cost: 7.708130\n",
            "Epoch   10/100 Batch 1/3 Cost: 4.304785\n",
            "Epoch   10/100 Batch 2/3 Cost: 12.348855\n",
            "Epoch   10/100 Batch 3/3 Cost: 2.165168\n",
            "Epoch   11/100 Batch 1/3 Cost: 0.606576\n",
            "Epoch   11/100 Batch 2/3 Cost: 13.860100\n",
            "Epoch   11/100 Batch 3/3 Cost: 7.130520\n",
            "Epoch   12/100 Batch 1/3 Cost: 7.166040\n",
            "Epoch   12/100 Batch 2/3 Cost: 3.766400\n",
            "Epoch   12/100 Batch 3/3 Cost: 5.378399\n",
            "Epoch   13/100 Batch 1/3 Cost: 7.768031\n",
            "Epoch   13/100 Batch 2/3 Cost: 3.851993\n",
            "Epoch   13/100 Batch 3/3 Cost: 5.212250\n",
            "Epoch   14/100 Batch 1/3 Cost: 1.282745\n",
            "Epoch   14/100 Batch 2/3 Cost: 9.105684\n",
            "Epoch   14/100 Batch 3/3 Cost: 7.856688\n",
            "Epoch   15/100 Batch 1/3 Cost: 5.519755\n",
            "Epoch   15/100 Batch 2/3 Cost: 8.011984\n",
            "Epoch   15/100 Batch 3/3 Cost: 5.462879\n",
            "Epoch   16/100 Batch 1/3 Cost: 5.997042\n",
            "Epoch   16/100 Batch 2/3 Cost: 5.326440\n",
            "Epoch   16/100 Batch 3/3 Cost: 4.873210\n",
            "Epoch   17/100 Batch 1/3 Cost: 4.291026\n",
            "Epoch   17/100 Batch 2/3 Cost: 7.720127\n",
            "Epoch   17/100 Batch 3/3 Cost: 2.702376\n",
            "Epoch   18/100 Batch 1/3 Cost: 8.529786\n",
            "Epoch   18/100 Batch 2/3 Cost: 4.046248\n",
            "Epoch   18/100 Batch 3/3 Cost: 1.961650\n",
            "Epoch   19/100 Batch 1/3 Cost: 11.465322\n",
            "Epoch   19/100 Batch 2/3 Cost: 6.330890\n",
            "Epoch   19/100 Batch 3/3 Cost: 1.264424\n",
            "Epoch   20/100 Batch 1/3 Cost: 8.002370\n",
            "Epoch   20/100 Batch 2/3 Cost: 5.178817\n",
            "Epoch   20/100 Batch 3/3 Cost: 1.744757\n",
            "Epoch   21/100 Batch 1/3 Cost: 7.467931\n",
            "Epoch   21/100 Batch 2/3 Cost: 3.737358\n",
            "Epoch   21/100 Batch 3/3 Cost: 5.223892\n",
            "Epoch   22/100 Batch 1/3 Cost: 1.280099\n",
            "Epoch   22/100 Batch 2/3 Cost: 6.276023\n",
            "Epoch   22/100 Batch 3/3 Cost: 12.718600\n",
            "Epoch   23/100 Batch 1/3 Cost: 4.066760\n",
            "Epoch   23/100 Batch 2/3 Cost: 12.275997\n",
            "Epoch   23/100 Batch 3/3 Cost: 2.179786\n",
            "Epoch   24/100 Batch 1/3 Cost: 4.488881\n",
            "Epoch   24/100 Batch 2/3 Cost: 3.139647\n",
            "Epoch   24/100 Batch 3/3 Cost: 15.441605\n",
            "Epoch   25/100 Batch 1/3 Cost: 4.207686\n",
            "Epoch   25/100 Batch 2/3 Cost: 5.294149\n",
            "Epoch   25/100 Batch 3/3 Cost: 11.238802\n",
            "Epoch   26/100 Batch 1/3 Cost: 4.278327\n",
            "Epoch   26/100 Batch 2/3 Cost: 5.863235\n",
            "Epoch   26/100 Batch 3/3 Cost: 12.476732\n",
            "Epoch   27/100 Batch 1/3 Cost: 6.289697\n",
            "Epoch   27/100 Batch 2/3 Cost: 3.390078\n",
            "Epoch   27/100 Batch 3/3 Cost: 7.112196\n",
            "Epoch   28/100 Batch 1/3 Cost: 4.247637\n",
            "Epoch   28/100 Batch 2/3 Cost: 3.077339\n",
            "Epoch   28/100 Batch 3/3 Cost: 14.906555\n",
            "Epoch   29/100 Batch 1/3 Cost: 5.030343\n",
            "Epoch   29/100 Batch 2/3 Cost: 11.008581\n",
            "Epoch   29/100 Batch 3/3 Cost: 1.899279\n",
            "Epoch   30/100 Batch 1/3 Cost: 4.583335\n",
            "Epoch   30/100 Batch 2/3 Cost: 7.628702\n",
            "Epoch   30/100 Batch 3/3 Cost: 2.084035\n",
            "Epoch   31/100 Batch 1/3 Cost: 5.494212\n",
            "Epoch   31/100 Batch 2/3 Cost: 1.361186\n",
            "Epoch   31/100 Batch 3/3 Cost: 15.031949\n",
            "Epoch   32/100 Batch 1/3 Cost: 5.530290\n",
            "Epoch   32/100 Batch 2/3 Cost: 6.803549\n",
            "Epoch   32/100 Batch 3/3 Cost: 5.153335\n",
            "Epoch   33/100 Batch 1/3 Cost: 4.221724\n",
            "Epoch   33/100 Batch 2/3 Cost: 5.736377\n",
            "Epoch   33/100 Batch 3/3 Cost: 7.380488\n",
            "Epoch   34/100 Batch 1/3 Cost: 4.050447\n",
            "Epoch   34/100 Batch 2/3 Cost: 3.382628\n",
            "Epoch   34/100 Batch 3/3 Cost: 14.886886\n",
            "Epoch   35/100 Batch 1/3 Cost: 4.843508\n",
            "Epoch   35/100 Batch 2/3 Cost: 3.689723\n",
            "Epoch   35/100 Batch 3/3 Cost: 12.973451\n",
            "Epoch   36/100 Batch 1/3 Cost: 5.728314\n",
            "Epoch   36/100 Batch 2/3 Cost: 6.659632\n",
            "Epoch   36/100 Batch 3/3 Cost: 7.015999\n",
            "Epoch   37/100 Batch 1/3 Cost: 5.618403\n",
            "Epoch   37/100 Batch 2/3 Cost: 9.153943\n",
            "Epoch   37/100 Batch 3/3 Cost: 8.716803\n",
            "Epoch   38/100 Batch 1/3 Cost: 2.500094\n",
            "Epoch   38/100 Batch 2/3 Cost: 12.623411\n",
            "Epoch   38/100 Batch 3/3 Cost: 4.559505\n",
            "Epoch   39/100 Batch 1/3 Cost: 0.766557\n",
            "Epoch   39/100 Batch 2/3 Cost: 8.666966\n",
            "Epoch   39/100 Batch 3/3 Cost: 7.484319\n",
            "Epoch   40/100 Batch 1/3 Cost: 5.370675\n",
            "Epoch   40/100 Batch 2/3 Cost: 4.990689\n",
            "Epoch   40/100 Batch 3/3 Cost: 10.586020\n",
            "Epoch   41/100 Batch 1/3 Cost: 8.515807\n",
            "Epoch   41/100 Batch 2/3 Cost: 6.303860\n",
            "Epoch   41/100 Batch 3/3 Cost: 4.343054\n",
            "Epoch   42/100 Batch 1/3 Cost: 8.053164\n",
            "Epoch   42/100 Batch 2/3 Cost: 7.982212\n",
            "Epoch   42/100 Batch 3/3 Cost: 7.137693\n",
            "Epoch   43/100 Batch 1/3 Cost: 1.195344\n",
            "Epoch   43/100 Batch 2/3 Cost: 5.788753\n",
            "Epoch   43/100 Batch 3/3 Cost: 12.178434\n",
            "Epoch   44/100 Batch 1/3 Cost: 6.822198\n",
            "Epoch   44/100 Batch 2/3 Cost: 6.406479\n",
            "Epoch   44/100 Batch 3/3 Cost: 4.579010\n",
            "Epoch   45/100 Batch 1/3 Cost: 7.374124\n",
            "Epoch   45/100 Batch 2/3 Cost: 3.464009\n",
            "Epoch   45/100 Batch 3/3 Cost: 4.960027\n",
            "Epoch   46/100 Batch 1/3 Cost: 4.071160\n",
            "Epoch   46/100 Batch 2/3 Cost: 3.203792\n",
            "Epoch   46/100 Batch 3/3 Cost: 14.685399\n",
            "Epoch   47/100 Batch 1/3 Cost: 5.355855\n",
            "Epoch   47/100 Batch 2/3 Cost: 3.998235\n",
            "Epoch   47/100 Batch 3/3 Cost: 10.271255\n",
            "Epoch   48/100 Batch 1/3 Cost: 4.304175\n",
            "Epoch   48/100 Batch 2/3 Cost: 7.100931\n",
            "Epoch   48/100 Batch 3/3 Cost: 4.025553\n",
            "Epoch   49/100 Batch 1/3 Cost: 1.145851\n",
            "Epoch   49/100 Batch 2/3 Cost: 8.354179\n",
            "Epoch   49/100 Batch 3/3 Cost: 7.028858\n",
            "Epoch   50/100 Batch 1/3 Cost: 3.384829\n",
            "Epoch   50/100 Batch 2/3 Cost: 5.915386\n",
            "Epoch   50/100 Batch 3/3 Cost: 12.476840\n",
            "Epoch   51/100 Batch 1/3 Cost: 6.469255\n",
            "Epoch   51/100 Batch 2/3 Cost: 8.726014\n",
            "Epoch   51/100 Batch 3/3 Cost: 6.468475\n",
            "Epoch   52/100 Batch 1/3 Cost: 1.082426\n",
            "Epoch   52/100 Batch 2/3 Cost: 5.739449\n",
            "Epoch   52/100 Batch 3/3 Cost: 12.070683\n",
            "Epoch   53/100 Batch 1/3 Cost: 6.052760\n",
            "Epoch   53/100 Batch 2/3 Cost: 4.729070\n",
            "Epoch   53/100 Batch 3/3 Cost: 3.581448\n",
            "Epoch   54/100 Batch 1/3 Cost: 1.019475\n",
            "Epoch   54/100 Batch 2/3 Cost: 5.747689\n",
            "Epoch   54/100 Batch 3/3 Cost: 12.076516\n",
            "Epoch   55/100 Batch 1/3 Cost: 7.085476\n",
            "Epoch   55/100 Batch 2/3 Cost: 3.285419\n",
            "Epoch   55/100 Batch 3/3 Cost: 4.537961\n",
            "Epoch   56/100 Batch 1/3 Cost: 6.690207\n",
            "Epoch   56/100 Batch 2/3 Cost: 3.535374\n",
            "Epoch   56/100 Batch 3/3 Cost: 4.805004\n",
            "Epoch   57/100 Batch 1/3 Cost: 1.197767\n",
            "Epoch   57/100 Batch 2/3 Cost: 8.373581\n",
            "Epoch   57/100 Batch 3/3 Cost: 7.201348\n",
            "Epoch   58/100 Batch 1/3 Cost: 5.278772\n",
            "Epoch   58/100 Batch 2/3 Cost: 4.817633\n",
            "Epoch   58/100 Batch 3/3 Cost: 10.280548\n",
            "Epoch   59/100 Batch 1/3 Cost: 7.185690\n",
            "Epoch   59/100 Batch 2/3 Cost: 3.408962\n",
            "Epoch   59/100 Batch 3/3 Cost: 4.904587\n",
            "Epoch   60/100 Batch 1/3 Cost: 0.821089\n",
            "Epoch   60/100 Batch 2/3 Cost: 5.784106\n",
            "Epoch   60/100 Batch 3/3 Cost: 12.107290\n",
            "Epoch   61/100 Batch 1/3 Cost: 5.537888\n",
            "Epoch   61/100 Batch 2/3 Cost: 3.679495\n",
            "Epoch   61/100 Batch 3/3 Cost: 6.306048\n",
            "Epoch   62/100 Batch 1/3 Cost: 5.005605\n",
            "Epoch   62/100 Batch 2/3 Cost: 6.186086\n",
            "Epoch   62/100 Batch 3/3 Cost: 2.127122\n",
            "Epoch   63/100 Batch 1/3 Cost: 10.445791\n",
            "Epoch   63/100 Batch 2/3 Cost: 4.882834\n",
            "Epoch   63/100 Batch 3/3 Cost: 3.107740\n",
            "Epoch   64/100 Batch 1/3 Cost: 0.699660\n",
            "Epoch   64/100 Batch 2/3 Cost: 15.308649\n",
            "Epoch   64/100 Batch 3/3 Cost: 3.177039\n",
            "Epoch   65/100 Batch 1/3 Cost: 6.870979\n",
            "Epoch   65/100 Batch 2/3 Cost: 4.590854\n",
            "Epoch   65/100 Batch 3/3 Cost: 2.258339\n",
            "Epoch   66/100 Batch 1/3 Cost: 7.931994\n",
            "Epoch   66/100 Batch 2/3 Cost: 3.722412\n",
            "Epoch   66/100 Batch 3/3 Cost: 2.241128\n",
            "Epoch   67/100 Batch 1/3 Cost: 7.122713\n",
            "Epoch   67/100 Batch 2/3 Cost: 2.371011\n",
            "Epoch   67/100 Batch 3/3 Cost: 9.473351\n",
            "Epoch   68/100 Batch 1/3 Cost: 4.288021\n",
            "Epoch   68/100 Batch 2/3 Cost: 7.410215\n",
            "Epoch   68/100 Batch 3/3 Cost: 5.281945\n",
            "Epoch   69/100 Batch 1/3 Cost: 3.952614\n",
            "Epoch   69/100 Batch 2/3 Cost: 5.446610\n",
            "Epoch   69/100 Batch 3/3 Cost: 6.713299\n",
            "Epoch   70/100 Batch 1/3 Cost: 6.392888\n",
            "Epoch   70/100 Batch 2/3 Cost: 4.466791\n",
            "Epoch   70/100 Batch 3/3 Cost: 2.515537\n",
            "Epoch   71/100 Batch 1/3 Cost: 6.978331\n",
            "Epoch   71/100 Batch 2/3 Cost: 3.578280\n",
            "Epoch   71/100 Batch 3/3 Cost: 4.419323\n",
            "Epoch   72/100 Batch 1/3 Cost: 1.094379\n",
            "Epoch   72/100 Batch 2/3 Cost: 14.030325\n",
            "Epoch   72/100 Batch 3/3 Cost: 3.546707\n",
            "Epoch   73/100 Batch 1/3 Cost: 7.608609\n",
            "Epoch   73/100 Batch 2/3 Cost: 1.315902\n",
            "Epoch   73/100 Batch 3/3 Cost: 9.068979\n",
            "Epoch   74/100 Batch 1/3 Cost: 4.529363\n",
            "Epoch   74/100 Batch 2/3 Cost: 9.621441\n",
            "Epoch   74/100 Batch 3/3 Cost: 2.591512\n",
            "Epoch   75/100 Batch 1/3 Cost: 1.234587\n",
            "Epoch   75/100 Batch 2/3 Cost: 5.617042\n",
            "Epoch   75/100 Batch 3/3 Cost: 11.643844\n",
            "Epoch   76/100 Batch 1/3 Cost: 5.880558\n",
            "Epoch   76/100 Batch 2/3 Cost: 5.573997\n",
            "Epoch   76/100 Batch 3/3 Cost: 6.257479\n",
            "Epoch   77/100 Batch 1/3 Cost: 6.878729\n",
            "Epoch   77/100 Batch 2/3 Cost: 3.616465\n",
            "Epoch   77/100 Batch 3/3 Cost: 9.434222\n",
            "Epoch   78/100 Batch 1/3 Cost: 8.455530\n",
            "Epoch   78/100 Batch 2/3 Cost: 7.885158\n",
            "Epoch   78/100 Batch 3/3 Cost: 5.607117\n",
            "Epoch   79/100 Batch 1/3 Cost: 2.584302\n",
            "Epoch   79/100 Batch 2/3 Cost: 4.625838\n",
            "Epoch   79/100 Batch 3/3 Cost: 10.756490\n",
            "Epoch   80/100 Batch 1/3 Cost: 3.404374\n",
            "Epoch   80/100 Batch 2/3 Cost: 5.944947\n",
            "Epoch   80/100 Batch 3/3 Cost: 11.701711\n",
            "Epoch   81/100 Batch 1/3 Cost: 3.694391\n",
            "Epoch   81/100 Batch 2/3 Cost: 6.658714\n",
            "Epoch   81/100 Batch 3/3 Cost: 3.549696\n",
            "Epoch   82/100 Batch 1/3 Cost: 1.921359\n",
            "Epoch   82/100 Batch 2/3 Cost: 7.446340\n",
            "Epoch   82/100 Batch 3/3 Cost: 6.268095\n",
            "Epoch   83/100 Batch 1/3 Cost: 6.724348\n",
            "Epoch   83/100 Batch 2/3 Cost: 3.169565\n",
            "Epoch   83/100 Batch 3/3 Cost: 4.419259\n",
            "Epoch   84/100 Batch 1/3 Cost: 9.668583\n",
            "Epoch   84/100 Batch 2/3 Cost: 5.910504\n",
            "Epoch   84/100 Batch 3/3 Cost: 1.335468\n",
            "Epoch   85/100 Batch 1/3 Cost: 7.221642\n",
            "Epoch   85/100 Batch 2/3 Cost: 2.221054\n",
            "Epoch   85/100 Batch 3/3 Cost: 9.689385\n",
            "Epoch   86/100 Batch 1/3 Cost: 5.319602\n",
            "Epoch   86/100 Batch 2/3 Cost: 5.436579\n",
            "Epoch   86/100 Batch 3/3 Cost: 6.861816\n",
            "Epoch   87/100 Batch 1/3 Cost: 4.513908\n",
            "Epoch   87/100 Batch 2/3 Cost: 5.307915\n",
            "Epoch   87/100 Batch 3/3 Cost: 4.504413\n",
            "Epoch   88/100 Batch 1/3 Cost: 7.279386\n",
            "Epoch   88/100 Batch 2/3 Cost: 1.464804\n",
            "Epoch   88/100 Batch 3/3 Cost: 8.680349\n",
            "Epoch   89/100 Batch 1/3 Cost: 5.293753\n",
            "Epoch   89/100 Batch 2/3 Cost: 3.432062\n",
            "Epoch   89/100 Batch 3/3 Cost: 5.670381\n",
            "Epoch   90/100 Batch 1/3 Cost: 1.589962\n",
            "Epoch   90/100 Batch 2/3 Cost: 5.264938\n",
            "Epoch   90/100 Batch 3/3 Cost: 11.169748\n",
            "Epoch   91/100 Batch 1/3 Cost: 5.515420\n",
            "Epoch   91/100 Batch 2/3 Cost: 8.346290\n",
            "Epoch   91/100 Batch 3/3 Cost: 7.771381\n",
            "Epoch   92/100 Batch 1/3 Cost: 2.402854\n",
            "Epoch   92/100 Batch 2/3 Cost: 7.202687\n",
            "Epoch   92/100 Batch 3/3 Cost: 5.948624\n",
            "Epoch   93/100 Batch 1/3 Cost: 6.604833\n",
            "Epoch   93/100 Batch 2/3 Cost: 3.137457\n",
            "Epoch   93/100 Batch 3/3 Cost: 4.406758\n",
            "Epoch   94/100 Batch 1/3 Cost: 6.393302\n",
            "Epoch   94/100 Batch 2/3 Cost: 3.251244\n",
            "Epoch   94/100 Batch 3/3 Cost: 4.489528\n",
            "Epoch   95/100 Batch 1/3 Cost: 10.633554\n",
            "Epoch   95/100 Batch 2/3 Cost: 5.621051\n",
            "Epoch   95/100 Batch 3/3 Cost: 0.814830\n",
            "Epoch   96/100 Batch 1/3 Cost: 7.082046\n",
            "Epoch   96/100 Batch 2/3 Cost: 2.182417\n",
            "Epoch   96/100 Batch 3/3 Cost: 9.498917\n",
            "Epoch   97/100 Batch 1/3 Cost: 4.241650\n",
            "Epoch   97/100 Batch 2/3 Cost: 3.467217\n",
            "Epoch   97/100 Batch 3/3 Cost: 11.841492\n",
            "Epoch   98/100 Batch 1/3 Cost: 6.210945\n",
            "Epoch   98/100 Batch 2/3 Cost: 3.566882\n",
            "Epoch   98/100 Batch 3/3 Cost: 9.245734\n",
            "Epoch   99/100 Batch 1/3 Cost: 7.489562\n",
            "Epoch   99/100 Batch 2/3 Cost: 3.325875\n",
            "Epoch   99/100 Batch 3/3 Cost: 8.768958\n",
            "Epoch  100/100 Batch 1/3 Cost: 4.257012\n",
            "Epoch  100/100 Batch 2/3 Cost: 5.391690\n",
            "Epoch  100/100 Batch 3/3 Cost: 10.844547\n"
          ]
        }
      ]
    },
    {
      "cell_type": "code",
      "source": [
        "# 임의의 입력 [73, 80, 75]를 선언\n",
        "new_var =  torch.FloatTensor([[73, 80, 75]]) \n",
        "# 입력한 값 [73, 80, 75]에 대해서 예측값 y를 리턴받아서 pred_y에 저장\n",
        "pred_y = model(new_var) \n",
        "print(\"훈련 후 입력이 73, 80, 75일 때의 예측값 :\", pred_y) "
      ],
      "metadata": {
        "colab": {
          "base_uri": "https://localhost:8080/"
        },
        "id": "odR2hoR1O1q5",
        "outputId": "0fb4b3bc-3310-4f2c-ca2d-f581374d8986"
      },
      "execution_count": null,
      "outputs": [
        {
          "output_type": "stream",
          "name": "stdout",
          "text": [
            "훈련 후 입력이 73, 80, 75일 때의 예측값 : tensor([[154.7531]], grad_fn=<AddmmBackward0>)\n"
          ]
        }
      ]
    },
    {
      "cell_type": "markdown",
      "source": [
        "커스텀 데이터셋(Custom Dataset)"
      ],
      "metadata": {
        "id": "hhmhysQWPU7k"
      }
    },
    {
      "cell_type": "code",
      "source": [
        "# Custom Dataset\n",
        "\n",
        "class CustomDataset(torch.utils.data.Dataset):\n",
        "\n",
        "    def __init__(self):\n",
        "      # 데이터셋의 전처리를 해주는 부분\n",
        "    def __len__(self):\n",
        "      # 데이터셋의 길이, 총 샘플의 수를 적어주는 부분\n",
        "    def __getitem__(self, idx):\n",
        "      # 데이터셋에서 특정 1개의 샘프을 가져오는 함수"
      ],
      "metadata": {
        "id": "qR3f8_WTO1th"
      },
      "execution_count": null,
      "outputs": []
    },
    {
      "cell_type": "code",
      "source": [
        "import torch\n",
        "import torch.nn.functional as F\n",
        "from torch.utils.data import Dataset\n",
        "from torch.utils.data import DataLoader"
      ],
      "metadata": {
        "id": "1J1h9qfrO1wV"
      },
      "execution_count": null,
      "outputs": []
    },
    {
      "cell_type": "code",
      "source": [
        "# Dataset 상속\n",
        "class CustomDataset(Dataset): \n",
        "  def __init__(self):\n",
        "    self.x_data = [[73, 80, 75],\n",
        "                   [93, 88, 93],\n",
        "                   [89, 91, 90],\n",
        "                   [96, 98, 100],\n",
        "                   [73, 66, 70]]\n",
        "    self.y_data = [[152], [185], [180], [196], [142]]\n",
        "\n",
        "  # 총 데이터의 개수를 리턴\n",
        "  def __len__(self): \n",
        "    return len(self.x_data)\n",
        "\n",
        "  # 인덱스를 입력받아 그에 맵핑되는 입출력 데이터를 파이토치의 Tensor 형태로 리턴\n",
        "  def __getitem__(self, idx): \n",
        "    x = torch.FloatTensor(self.x_data[idx])\n",
        "    y = torch.FloatTensor(self.y_data[idx])\n",
        "    return x, y"
      ],
      "metadata": {
        "id": "NvuYzpi7P3Iz"
      },
      "execution_count": null,
      "outputs": []
    },
    {
      "cell_type": "code",
      "source": [
        "dataset = CustomDataset()\n",
        "dataloader = DataLoader(dataset, batch_size=2, shuffle=True)"
      ],
      "metadata": {
        "id": "Zd2O7goSP3Le"
      },
      "execution_count": null,
      "outputs": []
    },
    {
      "cell_type": "code",
      "source": [
        "model = torch.nn.Linear(3,1)\n",
        "optimizer = torch.optim.SGD(model.parameters(), lr=1e-5) "
      ],
      "metadata": {
        "id": "MtrLaJdmP3OI"
      },
      "execution_count": null,
      "outputs": []
    },
    {
      "cell_type": "code",
      "source": [
        "nb_epochs = 20\n",
        "for epoch in range(nb_epochs + 1):\n",
        "  for batch_idx, samples in enumerate(dataloader):\n",
        "    # print(batch_idx)\n",
        "    # print(samples)\n",
        "    x_train, y_train = samples\n",
        "    # H(x) 계산\n",
        "    prediction = model(x_train)\n",
        "\n",
        "    # cost 계산\n",
        "    cost = F.mse_loss(prediction, y_train)\n",
        "\n",
        "    # cost로 H(x) 계산\n",
        "    optimizer.zero_grad()\n",
        "    cost.backward()\n",
        "    optimizer.step()\n",
        "\n",
        "    print('Epoch {:4d}/{} Batch {}/{} Cost: {:.6f}'.format(\n",
        "        epoch, nb_epochs, batch_idx+1, len(dataloader),\n",
        "        cost.item()\n",
        "        ))"
      ],
      "metadata": {
        "colab": {
          "base_uri": "https://localhost:8080/"
        },
        "id": "71kwocrUP3Qw",
        "outputId": "de334e12-dcb8-403a-d360-372226ef8968"
      },
      "execution_count": null,
      "outputs": [
        {
          "output_type": "stream",
          "name": "stdout",
          "text": [
            "Epoch    0/20 Batch 1/3 Cost: 45851.796875\n",
            "Epoch    0/20 Batch 2/3 Cost: 19506.183594\n",
            "Epoch    0/20 Batch 3/3 Cost: 7026.316895\n",
            "Epoch    1/20 Batch 1/3 Cost: 1684.020996\n",
            "Epoch    1/20 Batch 2/3 Cost: 266.646179\n",
            "Epoch    1/20 Batch 3/3 Cost: 26.550106\n",
            "Epoch    2/20 Batch 1/3 Cost: 83.593903\n",
            "Epoch    2/20 Batch 2/3 Cost: 24.049982\n",
            "Epoch    2/20 Batch 3/3 Cost: 2.103199\n",
            "Epoch    3/20 Batch 1/3 Cost: 12.119308\n",
            "Epoch    3/20 Batch 2/3 Cost: 10.123870\n",
            "Epoch    3/20 Batch 3/3 Cost: 12.433867\n",
            "Epoch    4/20 Batch 1/3 Cost: 2.666785\n",
            "Epoch    4/20 Batch 2/3 Cost: 14.500903\n",
            "Epoch    4/20 Batch 3/3 Cost: 15.499821\n",
            "Epoch    5/20 Batch 1/3 Cost: 11.694451\n",
            "Epoch    5/20 Batch 2/3 Cost: 5.548173\n",
            "Epoch    5/20 Batch 3/3 Cost: 18.932775\n",
            "Epoch    6/20 Batch 1/3 Cost: 5.202803\n",
            "Epoch    6/20 Batch 2/3 Cost: 9.282139\n",
            "Epoch    6/20 Batch 3/3 Cost: 17.616014\n",
            "Epoch    7/20 Batch 1/3 Cost: 3.832563\n",
            "Epoch    7/20 Batch 2/3 Cost: 13.327251\n",
            "Epoch    7/20 Batch 3/3 Cost: 14.064789\n",
            "Epoch    8/20 Batch 1/3 Cost: 5.236905\n",
            "Epoch    8/20 Batch 2/3 Cost: 13.235756\n",
            "Epoch    8/20 Batch 3/3 Cost: 19.654860\n",
            "Epoch    9/20 Batch 1/3 Cost: 11.507279\n",
            "Epoch    9/20 Batch 2/3 Cost: 5.370855\n",
            "Epoch    9/20 Batch 3/3 Cost: 18.895615\n",
            "Epoch   10/20 Batch 1/3 Cost: 6.610810\n",
            "Epoch   10/20 Batch 2/3 Cost: 20.965734\n",
            "Epoch   10/20 Batch 3/3 Cost: 4.041182\n",
            "Epoch   11/20 Batch 1/3 Cost: 14.383995\n",
            "Epoch   11/20 Batch 2/3 Cost: 6.888880\n",
            "Epoch   11/20 Batch 3/3 Cost: 4.183952\n",
            "Epoch   12/20 Batch 1/3 Cost: 10.668526\n",
            "Epoch   12/20 Batch 2/3 Cost: 10.714263\n",
            "Epoch   12/20 Batch 3/3 Cost: 3.585376\n",
            "Epoch   13/20 Batch 1/3 Cost: 11.319806\n",
            "Epoch   13/20 Batch 2/3 Cost: 5.684413\n",
            "Epoch   13/20 Batch 3/3 Cost: 18.512867\n",
            "Epoch   14/20 Batch 1/3 Cost: 6.235440\n",
            "Epoch   14/20 Batch 2/3 Cost: 13.972604\n",
            "Epoch   14/20 Batch 3/3 Cost: 3.730882\n",
            "Epoch   15/20 Batch 1/3 Cost: 6.628374\n",
            "Epoch   15/20 Batch 2/3 Cost: 13.677320\n",
            "Epoch   15/20 Batch 3/3 Cost: 4.215034\n",
            "Epoch   16/20 Batch 1/3 Cost: 11.407207\n",
            "Epoch   16/20 Batch 2/3 Cost: 9.479967\n",
            "Epoch   16/20 Batch 3/3 Cost: 4.137577\n",
            "Epoch   17/20 Batch 1/3 Cost: 8.240779\n",
            "Epoch   17/20 Batch 2/3 Cost: 13.667900\n",
            "Epoch   17/20 Batch 3/3 Cost: 1.611710\n",
            "Epoch   18/20 Batch 1/3 Cost: 11.203781\n",
            "Epoch   18/20 Batch 2/3 Cost: 10.035625\n",
            "Epoch   18/20 Batch 3/3 Cost: 1.928028\n",
            "Epoch   19/20 Batch 1/3 Cost: 16.956577\n",
            "Epoch   19/20 Batch 2/3 Cost: 7.557736\n",
            "Epoch   19/20 Batch 3/3 Cost: 10.077641\n",
            "Epoch   20/20 Batch 1/3 Cost: 2.236254\n",
            "Epoch   20/20 Batch 2/3 Cost: 14.630955\n",
            "Epoch   20/20 Batch 3/3 Cost: 15.718292\n"
          ]
        }
      ]
    },
    {
      "cell_type": "code",
      "source": [
        "# 임의의 입력 [73, 80, 75]를 선언\n",
        "new_var =  torch.FloatTensor([[73, 80, 75]]) \n",
        "# 입력한 값 [73, 80, 75]에 대해서 예측값 y를 리턴받아서 pred_y에 저장\n",
        "pred_y = model(new_var) \n",
        "print(\"훈련 후 입력이 73, 80, 75일 때의 예측값 :\", pred_y) "
      ],
      "metadata": {
        "colab": {
          "base_uri": "https://localhost:8080/"
        },
        "id": "IYcaI4r1P3Td",
        "outputId": "c5c62132-967c-450b-a6ed-3a7a4d389d91"
      },
      "execution_count": null,
      "outputs": [
        {
          "output_type": "stream",
          "name": "stdout",
          "text": [
            "훈련 후 입력이 73, 80, 75일 때의 예측값 : tensor([[156.3211]], grad_fn=<AddmmBackward0>)\n"
          ]
        }
      ]
    }
  ]
}